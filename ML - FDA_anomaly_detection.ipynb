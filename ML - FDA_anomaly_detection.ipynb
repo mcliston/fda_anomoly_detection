{
 "cells": [
  {
   "cell_type": "markdown",
   "metadata": {
    "id": "7X5PsQlXtEL4"
   },
   "source": [
    "# FDA Anomaly Classification with XGBoost"
   ]
  },
  {
   "cell_type": "markdown",
   "metadata": {},
   "source": [
    "## Table of Contents\n",
    "\n",
    "* [Intoduction](#first-bullet)\n",
    "* [The Data Used](#second-bullet)\n",
    "* [The Algorithm Used](#third-bullet)\n",
    "* [Data Cleaning and Feature Engineering Method](#fourth-bullet)\n",
    "* [Analysis](#fifth1a-bullet)\n",
    "* [Bayesian Hyperarameter Search](#fifth-bullet)\n",
    "* [Analysis of Results](#sixth-bullet)\n",
    "* [Feature Importance](#seventh-bullet)"
   ]
  },
  {
   "cell_type": "markdown",
   "metadata": {},
   "source": [
    "### Introduction <a class=\"anchor\" id=\"first-bullet\"></a>"
   ]
  },
  {
   "cell_type": "markdown",
   "metadata": {},
   "source": [
    "**Cloud compute used:** Google Colab <br>\n",
    "**Runtime:** Python 3.11, TPU w/ High-RAM <br>\n",
    "**Libraries:** xgboost, hyperopt, matplotlib, seaborn, scikit-learn, pandas, numpy <br>\n",
    "<br>\n",
    "After exploring the data, my initial thought was that this would be the right scenario to use an anomaly centered algorithm because of the evident class imbalance between import refusals/recons and accepted imports. But the training time for the Anomaly detection/classification algorithms that I attempted (Isolation Forests, XGBOD) were longer than anticipated.<br>\n",
    "<br>\n",
    "I decided on using the XGBoost ensemble classifier because of the following: <br>\n",
    "\n",
    "* A proven track record for accuracy<br>\n",
    "* The API is optimized for fast training<br>\n",
    "<br>\n",
    "Most ML classification methods suffer at classifiying with extremely imbalanced dataset. After proper tuning, XGBoost seems to not suffer in these type of scenarios."
   ]
  },
  {
   "cell_type": "markdown",
   "metadata": {},
   "source": [
    "### The Data Used <a class=\"anchor\" id=\"second-bullet\"></a>"
   ]
  },
  {
   "cell_type": "markdown",
   "metadata": {},
   "source": [
    "#### Dimensions\n",
    "**Data Observation Count (N):** 3,291,851 <br>\n",
    "**Training set size:** 2,205,540 <br>\n",
    "**Validation set size:** 543,155 <br>\n",
    "**Test set size:** 543,156 <br>\n",
    "<br>\n",
    "**Feature size:** 12 <br>\n",
    "**Feature Details:** <br>\n",
    "    * \"submission_disposition_time_diff_days\" - The difference in days between disposition date and submission date <br>\n",
    "    * \"Division of Northeast Imports\" - Dummy variable of port of entry <br>\n",
    "    * \"Division of Northern Border Imports\" - Dummy variable of port of entry <br>\n",
    "    * \"Division of Southeast Imports\" - Dummy variable of port of entry <br>\n",
    "    * \"Division of Southwest Imports\" - Dummy variable of port of entry <br>\n",
    "    * \"Division of West Coast Imports\" - Dummy variable of port of entry <br>\n",
    "    * \"product_code_indust_encoded\" - Feature engineering by frequency of category <br>\n",
    "    * \"product_code_class_encoded\" - Feature engineering by frequency of category <br>\n",
    "    * \"product_code_subclass_encoded\" - Feature engineering by frequency of category <br>\n",
    "    * \"product_code_product_grp_encoded\" - Feature engineering by frequency of category <br>\n",
    "    * \"product_code_pic_encoded\" - Feature engineering by frequency of category <br>\n",
    "    * \"product_code_indust_encoded\" - Feature engineering by frequency of category <br>\n",
    "    * \"product_code_main_fei_encoded\" - Feature engineering by frequency of category <br>\n",
    "\n",
    "**Years of Data:** 2020,2021,2022,2023 <br>\n",
    "**Representation of Division of Northeast Imports (N):** 324,061\n",
    "**Representation of Division of Northeast Imports (N):** 916,205\n",
    "**Representation of Division of Southeast Imports (N):** 82,304\n",
    "**Representation of Division of Southwest Imports (N):** 1,700,245\n",
    "**Representation of Division of Southwest Imports (N):** 269,036"
   ]
  },
  {
   "cell_type": "markdown",
   "metadata": {},
   "source": [
    "### The Algorithm Used <a class=\"anchor\" id=\"third-bullet\"></a>"
   ]
  },
  {
   "cell_type": "markdown",
   "metadata": {},
   "source": [
    "#### XGBoost"
   ]
  },
  {
   "cell_type": "markdown",
   "metadata": {},
   "source": [
    "XGBoost is a robust and powerful machine learning method that has earned a reputation in the data science community for winning many Kaggle competitions. Created in 2014 by Carnegie Mellon professor Tianqi Chen, XGBoost is an ensemble method (the use of multiple models, usually referred to as \"weak learners\" that as a whole contribute to one accurate and robust classifier/regressor) that uses gradient boosting to correct for previous model errors as the ensemble is generated sequentially. <br>\n",
    "<br>\n",
    "Popularly used in the Python programming language, XGBoost can also be used across many other languages like C++, Java, R, Julia, etc. "
   ]
  },
  {
   "cell_type": "markdown",
   "metadata": {},
   "source": [
    "### Data Cleaning and Feature Engineering <a class=\"anchor\" id=\"fourth-bullet\"></a>"
   ]
  },
  {
   "cell_type": "markdown",
   "metadata": {},
   "source": [
    "#### Removing Columns <br>\n",
    "\n",
    "<br>\n",
    "\n",
    "Certain columns were removed from the dataset because of their non-relevance to the machine learning task. Those columns were: <br>\n",
    "<br>\n",
    "* 'Manufacturer Line1 Address'\n",
    "* 'Manufacturer Line2 Address'\n",
    "* 'Filer Line1 Address'\n",
    "* 'Filer Line2 Address'\n",
    "* 'Shipment ID'\n",
    "* 'Arrival Date',\n",
    "* 'Submission Date'\n",
    "* 'Filer Legal Name'\n",
    "* 'Final Disposition Date'\n",
    "* 'Filer Zip Code'\n",
    "* 'Filer FEI Number' <br>\n"
   ]
  },
  {
   "cell_type": "markdown",
   "metadata": {},
   "source": [
    "#### Feature Engineering <br>\n",
    "\n",
    "##### Dummy Variables: <br>\n",
    "Columns with a small amount of categories (~< 5) were candidates to convert to dummy variables. The \"Port of Entry Division\" column was the only one converted for this task. <br>\n",
    "\n",
    "##### Frequency of Category: <br>\n",
    "To handle the columns with a large amount of categories, I used \"Frequency Encoding\". This method aims to ween down the amount of categories while capturing the importance of a certain category based on how frequent it appears in the dataset. The following columns were converted with this method: <br>\n",
    "\n",
    "* 'Product Code - Industry'\n",
    "* 'Product Code - Class'\n",
    "* 'Product Code - Subclass'\n",
    "* 'Product Code - PIC'\n",
    "* 'Product Code - Product Group'\n",
    "* 'Manufacturer FEI Number'\n",
    "\n",
    "##### The Predictor (Y variable): <br>\n",
    "The predictor variable is a binary (0 for ACCEPTED import, 1 for REFUSED/RECON import). \n",
    "\n",
    "##### Final dataset: <br>\n",
    "In the end, the followin features/columns remained for the final dataset: <br>\n",
    "\n",
    "* 'submission_disposition_time_diff_days'\n",
    "* 'Division of Northeast Imports'\n",
    "* 'Division of Northern Border Imports'\n",
    "* 'Division of Southeast Imports'\n",
    "* 'Division of Southwest Imports'\n",
    "* 'Division of West Coast Imports'\n",
    "* 'product_code_indust_encoded'\n",
    "* 'product_code_class_encoded'\n",
    "* 'product_code_subclass_encoded'\n",
    "* 'product_code_pic_encoded'\n",
    "* 'product_code_product_grp_encoded'\n",
    "* 'product_code_man_fei_encoded'\n",
    "* 'y'"
   ]
  },
  {
   "cell_type": "markdown",
   "metadata": {},
   "source": [
    "### Analysis <a class=\"anchor\" id=\"fifth1a-bullet\"></a>"
   ]
  },
  {
   "cell_type": "code",
   "execution_count": null,
   "metadata": {
    "colab": {
     "base_uri": "https://localhost:8080/"
    },
    "id": "LW-ycUf3qmsY",
    "outputId": "fe5dae40-6ea7-4320-cf20-aebc2a06e90e"
   },
   "outputs": [],
   "source": [
    "!pip install xgboost\n",
    "!pip install hyperopt\n",
    "!pip install seaborn\n",
    "!pip install matplotlib"
   ]
  },
  {
   "cell_type": "code",
   "execution_count": 1,
   "metadata": {
    "id": "E7MZPovvrAAm"
   },
   "outputs": [],
   "source": [
    "import pandas as pd\n",
    "import numpy as np\n",
    "\n",
    "from sklearn.model_selection import train_test_split\n",
    "from sklearn.preprocessing import StandardScaler\n",
    "from sklearn.datasets import make_classification\n",
    "from sklearn.metrics import classification_report\n",
    "from hyperopt import hp, fmin, tpe, Trials\n",
    "from sklearn.metrics import roc_auc_score\n",
    "from sklearn.metrics import f1_score\n",
    "import hyperopt\n",
    "import xgboost as xgb\n",
    "from sklearn.metrics import confusion_matrix\n",
    "import seaborn as sns\n",
    "import matplotlib.pyplot as plt\n"
   ]
  },
  {
   "cell_type": "code",
   "execution_count": 3,
   "metadata": {
    "colab": {
     "base_uri": "https://localhost:8080/"
    },
    "id": "QbegSHojrEVW",
    "outputId": "4f65be79-5680-49b5-aaae-084da51d414e"
   },
   "outputs": [
    {
     "name": "stdout",
     "output_type": "stream",
     "text": [
      "Mounted at /content/drive\n"
     ]
    }
   ],
   "source": [
    "# Load the Drive helper and mount\n",
    "from google.colab import drive\n",
    "\n",
    "# This will prompt for authorization.\n",
    "drive.mount('/content/drive')"
   ]
  },
  {
   "cell_type": "code",
   "execution_count": 4,
   "metadata": {
    "colab": {
     "base_uri": "https://localhost:8080/"
    },
    "id": "EGg-8jz_rOOK",
    "outputId": "470d5b8c-cf8f-408d-f9b3-c9a2f18acd5c"
   },
   "outputs": [
    {
     "name": "stdout",
     "output_type": "stream",
     "text": [
      "MAIN_FINAL.csv\n"
     ]
    }
   ],
   "source": [
    "!ls drive/MyDrive/Berkeley/anomaly_detection/"
   ]
  },
  {
   "cell_type": "code",
   "execution_count": 5,
   "metadata": {
    "id": "bVL0ztfwrQ1f"
   },
   "outputs": [],
   "source": [
    "MAIN_DIR = 'drive/MyDrive/Berkeley/anomaly_detection/'"
   ]
  },
  {
   "cell_type": "code",
   "execution_count": 6,
   "metadata": {
    "id": "8J2OZMFRreqA"
   },
   "outputs": [],
   "source": [
    "df = pd.read_csv(MAIN_DIR + 'MAIN_FINAL.csv')\n",
    "df = df.dropna()"
   ]
  },
  {
   "cell_type": "code",
   "execution_count": 7,
   "metadata": {
    "id": "d3EOtILSroI8"
   },
   "outputs": [],
   "source": [
    "X = df[['submission_disposition_time_diff_days',\n",
    "       'Division of Northeast Imports', 'Division of Northern Border Imports',\n",
    "       'Division of Southeast Imports', 'Division of Southwest Imports',\n",
    "       'Division of West Coast Imports', 'product_code_indust_encoded',\n",
    "       'product_code_class_encoded', 'product_code_subclass_encoded',\n",
    "       'product_code_pic_encoded', 'product_code_product_grp_encoded',\n",
    "       'product_code_man_fei_encoded']]\n",
    "y = df['y']"
   ]
  },
  {
   "cell_type": "code",
   "execution_count": 8,
   "metadata": {
    "colab": {
     "base_uri": "https://localhost:8080/"
    },
    "id": "0PVYVNz_rtkP",
    "outputId": "398fd8a8-a743-45f8-96c5-92a71ed6c305"
   },
   "outputs": [
    {
     "data": {
      "text/plain": [
       "submission_disposition_time_diff_days    0\n",
       "Division of Northeast Imports            0\n",
       "Division of Northern Border Imports      0\n",
       "Division of Southeast Imports            0\n",
       "Division of Southwest Imports            0\n",
       "Division of West Coast Imports           0\n",
       "product_code_indust_encoded              0\n",
       "product_code_class_encoded               0\n",
       "product_code_subclass_encoded            0\n",
       "product_code_pic_encoded                 0\n",
       "product_code_product_grp_encoded         0\n",
       "product_code_man_fei_encoded             0\n",
       "dtype: int64"
      ]
     },
     "execution_count": 8,
     "metadata": {},
     "output_type": "execute_result"
    }
   ],
   "source": [
    "X.isna().sum()"
   ]
  },
  {
   "cell_type": "code",
   "execution_count": 9,
   "metadata": {
    "id": "7KF-7PSzr2ho"
   },
   "outputs": [],
   "source": [
    "#Train - Validation - Test split\n",
    "X_train, X_2, y_train, y_2 = train_test_split(X,y,\n",
    "                                              test_size=0.33,\n",
    "                                              stratify=y,\n",
    "                                              random_state=42)\n",
    "\n",
    "X_val, X_test, y_val, y_test = train_test_split(X_2, y_2,\n",
    "                                               test_size=0.5,\n",
    "                                               stratify=y_2,\n",
    "                                               random_state=42)"
   ]
  },
  {
   "cell_type": "code",
   "execution_count": 25,
   "metadata": {
    "colab": {
     "base_uri": "https://localhost:8080/"
    },
    "id": "rOseMTwmE5n_",
    "outputId": "118c4606-5855-468b-8e20-b2419a1efeec"
   },
   "outputs": [
    {
     "data": {
      "text/plain": [
       "(2205540, 12)"
      ]
     },
     "execution_count": 25,
     "metadata": {},
     "output_type": "execute_result"
    }
   ],
   "source": [
    "X_train.shape"
   ]
  },
  {
   "cell_type": "code",
   "execution_count": 26,
   "metadata": {
    "colab": {
     "base_uri": "https://localhost:8080/"
    },
    "id": "IWBNXpBHE_Ed",
    "outputId": "71010a2f-e56f-4dc3-f061-9cbe02998127"
   },
   "outputs": [
    {
     "data": {
      "text/plain": [
       "(543155, 12)"
      ]
     },
     "execution_count": 26,
     "metadata": {},
     "output_type": "execute_result"
    }
   ],
   "source": [
    "X_val.shape"
   ]
  },
  {
   "cell_type": "code",
   "execution_count": 27,
   "metadata": {
    "colab": {
     "base_uri": "https://localhost:8080/"
    },
    "id": "MvHF_oduFCzY",
    "outputId": "450a0872-10f8-4438-a8b4-7c59f9ef55a3"
   },
   "outputs": [
    {
     "data": {
      "text/plain": [
       "(543156, 12)"
      ]
     },
     "execution_count": 27,
     "metadata": {},
     "output_type": "execute_result"
    }
   ],
   "source": [
    "X_test.shape"
   ]
  },
  {
   "cell_type": "code",
   "execution_count": 11,
   "metadata": {
    "id": "d_EogjNc-_CS"
   },
   "outputs": [],
   "source": [
    "#converting dataframes to DMatrix data structures for speed\n",
    "\n",
    "dtrain = xgb.DMatrix(X_train, label=y_train)\n",
    "dval = xgb.DMatrix(X_val, label=y_val)\n",
    "dtest = xgb.DMatrix(X_test, label=y_test)"
   ]
  },
  {
   "cell_type": "markdown",
   "metadata": {
    "id": "T7TGdO9GyAmE"
   },
   "source": [
    "### Bayesian Hyperparameter Search <a class=\"anchor\" id=\"fifth-bullet\"></a> <br>\n",
    "\n",
    "Hyperopt is a Python library designed for hyperparameter optimization, specifically for machine learning models. It automates the process of tuning hyperparameters by searching for the optimal set of hyperparameters within a specified search space.\n",
    "\n",
    "**Key features of Hyperopt include:**\n",
    "\n",
    "* Optimization Algorithms: Hyperopt provides different optimization algorithms such as Random Search, Tree of Parzen Estimators (TPE), and Adaptive TPE (ATPE) to efficiently search the hyperparameter space.\n",
    "\n",
    "* Modular Design: It offers a modular design that allows users to define a search space for hyperparameters using various distributions (e.g., uniform, normal, log-normal) for both discrete and continuous parameters.\n",
    "\n",
    "* Integration with Machine Learning Libraries: Hyperopt can seamlessly integrate with popular machine learning libraries like scikit-learn, XGBoost, TensorFlow, Keras, etc., making it versatile and adaptable to different modeling frameworks.\n",
    "\n",
    "* Adaptive Optimization: Hyperopt employs adaptive strategies to learn from previous iterations and focus the search on promising regions of the hyperparameter space, improving efficiency.\n",
    "\n",
    "* Bayesian Optimization: Through algorithms like Tree of Parzen Estimators (TPE), Hyperopt uses Bayesian optimization techniques to balance exploration and exploitation of the hyperparameter space."
   ]
  },
  {
   "cell_type": "code",
   "execution_count": 12,
   "metadata": {
    "id": "_d8fOgQg-YkY"
   },
   "outputs": [],
   "source": [
    "# Initializing the hyperparameter search space\n",
    "\n",
    "space = {\n",
    "    'max_depth': hp.choice('max_depth', range(3, 15)),\n",
    "    'min_child_weight': hp.uniform('min_child_weight', 1, 10),\n",
    "    'subsample': hp.uniform('subsample', 0.5, 1),\n",
    "    'colsample_bytree': hp.uniform('colsample_bytree', 0.5, 1),\n",
    "    'eta': hp.uniform('eta', 0.01, 0.5),\n",
    "    'gamma': hp.uniform('gamma', 0, 1)\n",
    "    # Add more hyperparameters as needed\n",
    "}\n"
   ]
  },
  {
   "cell_type": "code",
   "execution_count": 13,
   "metadata": {
    "id": "jiYj0Mwe_LiN"
   },
   "outputs": [],
   "source": [
    "def objective(params):\n",
    "    params = {\n",
    "        'max_depth': int(params['max_depth']),\n",
    "        'min_child_weight': params['min_child_weight'],\n",
    "        'subsample': params['subsample'],\n",
    "        'colsample_bytree': params['colsample_bytree'],\n",
    "        'eta': params['eta'],\n",
    "        'gamma': params['gamma'],\n",
    "        'eval_metric': 'auc',\n",
    "        'objective': 'binary:logistic',\n",
    "        'verbosity': 0\n",
    "    }\n",
    "\n",
    "    model = xgb.train(params, dtrain, num_boost_round=100, evals=[(dval, 'eval')], early_stopping_rounds=10, verbose_eval=False)\n",
    "    y_pred = model.predict(dval)\n",
    "    f1 = f1_score(y_val, y_pred.round())\n",
    "    return -f1  # Minimize negative F1-score\n"
   ]
  },
  {
   "cell_type": "code",
   "execution_count": 14,
   "metadata": {
    "colab": {
     "base_uri": "https://localhost:8080/"
    },
    "id": "8wGtFOWV_UKh",
    "outputId": "b173c187-7c54-49d3-e3d4-6b5ee92ac01e"
   },
   "outputs": [
    {
     "name": "stdout",
     "output_type": "stream",
     "text": [
      "100%|██████████| 50/50 [03:28<00:00,  4.16s/trial, best loss: -0.9721659919028339]\n",
      "Best hyperparameters: {'colsample_bytree': 0.7304548650282323, 'eta': 0.42303282780493223, 'gamma': 0.484110131689784, 'max_depth': 13, 'min_child_weight': 1.140392841835718, 'subsample': 0.8169790457064862}\n"
     ]
    }
   ],
   "source": [
    "trials = Trials()\n",
    "best = fmin(fn=objective,\n",
    "            space=space,\n",
    "            algo=tpe.suggest,\n",
    "            max_evals=50,  # Adjust the number of iterations as needed\n",
    "            trials=trials)\n",
    "\n",
    "best_params = hyperopt.space_eval(space, best)\n",
    "print(\"Best hyperparameters:\", best_params)\n"
   ]
  },
  {
   "cell_type": "markdown",
   "metadata": {},
   "source": [
    "##### Detail of parameters used for tuning: <br>\n",
    "\n",
    "* colsample_bytree: It specifies the fraction of features (columns) to be randomly sampled for each tree. This parameter helps in preventing overfitting by introducing randomness. A value of 1.0 means using all features; lower values imply using a fraction of the features for each tree.\n",
    "\n",
    "* eta (learning rate): It represents the step size at each iteration while moving toward a minimum of the loss function. Lower values make the model training slower but can lead to better convergence and possibly better generalization. It scales the contribution of each tree.\n",
    "\n",
    "* gamma: It is the minimum loss reduction required to make a further partition on a leaf node of the tree. Higher values result in more conservative models, as it requires a higher loss reduction to make a split.\n",
    "\n",
    "* max_depth: It determines the maximum depth of a tree. It controls the complexity of the trees; deeper trees can learn more complex patterns in the data but can also lead to overfitting if not controlled properly.\n",
    "\n",
    "* min_child_weight: It defines the minimum sum of weights (hessian) needed in a child (leaf) for further partitioning. Higher values prevent the model from creating child nodes that do not have enough samples, thus preventing overfitting.\n",
    "\n",
    "* subsample: It specifies the fraction of training data to be randomly sampled for each tree. It helps in preventing overfitting by introducing randomness. A value of 1.0 means using all samples; lower values imply using a fraction of the training data for each tree.\n",
    "\n"
   ]
  },
  {
   "cell_type": "code",
   "execution_count": 7,
   "metadata": {
    "id": "jyu1jJsN_VqF"
   },
   "outputs": [],
   "source": [
    "best_params = {'colsample_bytree': 0.7304548650282323,\n",
    "               'eta': 0.42303282780493223,\n",
    "               'gamma': 0.484110131689784,\n",
    "               'max_depth': 13,\n",
    "               'min_child_weight': 1.140392841835718,\n",
    "               'subsample': 0.8169790457064862}"
   ]
  },
  {
   "cell_type": "code",
   "execution_count": 8,
   "metadata": {},
   "outputs": [
    {
     "data": {
      "text/plain": [
       "dict_keys(['colsample_bytree', 'eta', 'gamma', 'max_depth', 'min_child_weight', 'subsample'])"
      ]
     },
     "execution_count": 8,
     "metadata": {},
     "output_type": "execute_result"
    }
   ],
   "source": [
    "best_params.keys()"
   ]
  },
  {
   "cell_type": "code",
   "execution_count": 18,
   "metadata": {
    "id": "t0epfP_aAgz1"
   },
   "outputs": [],
   "source": [
    "xgb_model = xgb.train(best_params, dtrain, num_boost_round=100, evals=[(dval, 'eval')], early_stopping_rounds=10, verbose_eval=False)"
   ]
  },
  {
   "cell_type": "code",
   "execution_count": 19,
   "metadata": {
    "id": "aews2uBvB5qA"
   },
   "outputs": [],
   "source": [
    "y_pred = xgb_model.predict(dtest)\n",
    "predictions = [1 if pred > 0.5 else 0 for pred in y_pred]"
   ]
  },
  {
   "cell_type": "markdown",
   "metadata": {},
   "source": [
    "### Analysis of Results <a class=\"anchor\" id=\"sixth-bullet\"></a>"
   ]
  },
  {
   "cell_type": "code",
   "execution_count": 20,
   "metadata": {
    "colab": {
     "base_uri": "https://localhost:8080/"
    },
    "id": "4O95uN3GDn6Z",
    "outputId": "fa2dc1e9-715d-4252-cc09-f3a2e86ec014"
   },
   "outputs": [
    {
     "name": "stdout",
     "output_type": "stream",
     "text": [
      "Accuracy: 0.9994\n",
      "AUC: 0.9984\n",
      "F1-score: 0.9608\n"
     ]
    }
   ],
   "source": [
    "from sklearn.metrics import accuracy_score, roc_auc_score, f1_score\n",
    "\n",
    "# Calculate evaluation metrics\n",
    "accuracy = accuracy_score(y_test, predictions)\n",
    "auc = roc_auc_score(y_test, y_pred)\n",
    "f1 = f1_score(y_test, predictions)\n",
    "\n",
    "print(f\"Accuracy: {accuracy:.4f}\")\n",
    "print(f\"AUC: {auc:.4f}\")\n",
    "print(f\"F1-score: {f1:.4f}\")\n"
   ]
  },
  {
   "cell_type": "code",
   "execution_count": 23,
   "metadata": {
    "colab": {
     "base_uri": "https://localhost:8080/",
     "height": 582
    },
    "id": "pPOJ4SglENoe",
    "outputId": "04b87947-262c-416b-8cb2-2a1fd89f05fa"
   },
   "outputs": [
    {
     "data": {
      "text/plain": [
       "Text(0.5, 1.0, 'Confusion Matrix')"
      ]
     },
     "execution_count": 23,
     "metadata": {},
     "output_type": "execute_result"
    },
    {
     "data": {
      "image/png": "[encoded data removed]",
      "text/plain": [
       "<Figure size 800x600 with 2 Axes>"
      ]
     },
     "metadata": {},
     "output_type": "display_data"
    }
   ],
   "source": [
    "cm = confusion_matrix(y_test, predictions)\n",
    "\n",
    "# Create a heatmap to visualize the confusion matrix\n",
    "plt.figure(figsize=(8, 6))\n",
    "sns.heatmap(cm, annot=True, fmt='d', cmap='Blues', annot_kws={\"size\": 14})\n",
    "plt.xlabel('Predicted labels')\n",
    "plt.ylabel('True labels')\n",
    "plt.title('Confusion Matrix')"
   ]
  },
  {
   "cell_type": "code",
   "execution_count": 24,
   "metadata": {
    "colab": {
     "base_uri": "https://localhost:8080/"
    },
    "id": "I6UybqWfEg6C",
    "outputId": "c9d196e5-468f-4f3e-bb44-ec5d20c78a8b"
   },
   "outputs": [
    {
     "name": "stdout",
     "output_type": "stream",
     "text": [
      "Classification Report:\n",
      "              precision    recall  f1-score   support\n",
      "\n",
      "           0       1.00      1.00      1.00    539211\n",
      "           1       0.95      0.97      0.96      3945\n",
      "\n",
      "    accuracy                           1.00    543156\n",
      "   macro avg       0.97      0.99      0.98    543156\n",
      "weighted avg       1.00      1.00      1.00    543156\n",
      "\n"
     ]
    }
   ],
   "source": [
    "report = classification_report(y_test, predictions)\n",
    "\n",
    "# Display the classification report\n",
    "print(\"Classification Report:\")\n",
    "print(report)"
   ]
  },
  {
   "cell_type": "markdown",
   "metadata": {
    "id": "g0GmroqBFiAd"
   },
   "source": [
    "### Feature Importance <a class=\"anchor\" id=\"seventh-bullet\"></a>"
   ]
  },
  {
   "cell_type": "markdown",
   "metadata": {},
   "source": [
    "The top four features according to XGBoost are: <br>\n",
    "\n",
    "* submission_disposition_time_diff_days\n",
    "* Division of Southwest Imports\n",
    "* product_code_pic_encoded\n",
    "* Division of Southeast Imports"
   ]
  },
  {
   "cell_type": "code",
   "execution_count": 28,
   "metadata": {
    "colab": {
     "base_uri": "https://localhost:8080/"
    },
    "id": "41CGO9MKFk_z",
    "outputId": "d2447185-a38d-421f-f76e-7e18be5051b2"
   },
   "outputs": [
    {
     "data": {
      "text/plain": [
       "{'submission_disposition_time_diff_days': 317.1867370605469,\n",
       " 'Division of Northeast Imports': 1.7896552085876465,\n",
       " 'Division of Northern Border Imports': 1.4924501180648804,\n",
       " 'Division of Southeast Imports': 3.014376640319824,\n",
       " 'Division of Southwest Imports': 3.2568185329437256,\n",
       " 'Division of West Coast Imports': 1.7143945693969727,\n",
       " 'product_code_indust_encoded': 1.332914113998413,\n",
       " 'product_code_class_encoded': 1.3626294136047363,\n",
       " 'product_code_subclass_encoded': 1.5659962892532349,\n",
       " 'product_code_pic_encoded': 3.20066237449646,\n",
       " 'product_code_product_grp_encoded': 1.3524727821350098,\n",
       " 'product_code_man_fei_encoded': 1.255963921546936}"
      ]
     },
     "execution_count": 28,
     "metadata": {},
     "output_type": "execute_result"
    }
   ],
   "source": [
    "xgb_model.get_score(importance_type='gain')"
   ]
  },
  {
   "cell_type": "code",
   "execution_count": 29,
   "metadata": {
    "colab": {
     "base_uri": "https://localhost:8080/",
     "height": 448
    },
    "id": "QFK2nFw3GJUp",
    "outputId": "3fe99ec0-2e50-462c-c508-2c579dc28946"
   },
   "outputs": [
    {
     "data": {
      "text/plain": [
       "<Axes: >"
      ]
     },
     "execution_count": 29,
     "metadata": {},
     "output_type": "execute_result"
    },
    {
     "data": {
      "image/png": "[encoded data removed]",
      "text/plain": [
       "<Figure size 640x480 with 1 Axes>"
      ]
     },
     "metadata": {},
     "output_type": "display_data"
    }
   ],
   "source": [
    "df[df['y'] == 1]['submission_disposition_time_diff_days'].plot(kind='box')"
   ]
  },
  {
   "cell_type": "code",
   "execution_count": 30,
   "metadata": {
    "colab": {
     "base_uri": "https://localhost:8080/"
    },
    "id": "TBXEzumxHYnS",
    "outputId": "0e97d631-4bfc-411e-ce92-aab705cdfaa1"
   },
   "outputs": [
    {
     "data": {
      "text/plain": [
       "71.91409452112087"
      ]
     },
     "execution_count": 30,
     "metadata": {},
     "output_type": "execute_result"
    }
   ],
   "source": [
    "df[df['y'] == 1]['submission_disposition_time_diff_days'].mean()"
   ]
  },
  {
   "cell_type": "code",
   "execution_count": 53,
   "metadata": {
    "colab": {
     "base_uri": "https://localhost:8080/",
     "height": 451
    },
    "id": "mS0lfvD0Hqxq",
    "outputId": "d4412cf7-8b37-4967-8a60-8c6d9055f173"
   },
   "outputs": [
    {
     "data": {
      "text/plain": [
       "<Axes: >"
      ]
     },
     "execution_count": 53,
     "metadata": {},
     "output_type": "execute_result"
    },
    {
     "data": {
      "image/png": "[encoded data removed]",
      "text/plain": [
       "<Figure size 640x480 with 1 Axes>"
      ]
     },
     "metadata": {},
     "output_type": "display_data"
    }
   ],
   "source": [
    "df[df['y'] == 0]['submission_disposition_time_diff_days'].plot(kind='box')"
   ]
  },
  {
   "cell_type": "code",
   "execution_count": 54,
   "metadata": {
    "colab": {
     "base_uri": "https://localhost:8080/"
    },
    "id": "de5-EaNcOeUk",
    "outputId": "56465458-e198-45e7-ceaa-fb193d084927"
   },
   "outputs": [
    {
     "data": {
      "text/plain": [
       "0.28888036840322395"
      ]
     },
     "execution_count": 54,
     "metadata": {},
     "output_type": "execute_result"
    }
   ],
   "source": [
    "df[df['y'] == 0]['submission_disposition_time_diff_days'].mean()"
   ]
  }
 ],
 "metadata": {
  "accelerator": "TPU",
  "colab": {
   "machine_shape": "hm",
   "provenance": []
  },
  "kernelspec": {
   "display_name": "Python 3 (ipykernel)",
   "language": "python",
   "name": "python3"
  },
  "language_info": {
   "codemirror_mode": {
    "name": "ipython",
    "version": 3
   },
   "file_extension": ".py",
   "mimetype": "text/x-python",
   "name": "python",
   "nbconvert_exporter": "python",
   "pygments_lexer": "ipython3",
   "version": "3.10.11"
  }
 },
 "nbformat": 4,
 "nbformat_minor": 4
}
